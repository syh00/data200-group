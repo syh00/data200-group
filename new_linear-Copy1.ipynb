{
 "cells": [
  {
   "cell_type": "code",
   "execution_count": 1,
   "id": "7b71030f",
   "metadata": {},
   "outputs": [],
   "source": [
    "import pandas as pd\n",
    "import matplotlib.pyplot as plt\n",
    "import seaborn as sns\n",
    "import sklearn\n",
    "from sklearn.model_selection import train_test_split\n",
    "from sklearn.preprocessing import StandardScaler\n",
    "from sklearn.linear_model import LogisticRegression\n",
    "from sklearn.metrics import classification_report, confusion_matrix\n",
    "from datetime import datetime\n",
    "\n",
    "import pandas as pd\n",
    "import seaborn as sns\n",
    "import matplotlib.pyplot as plt\n",
    "import numpy as np\n",
    "\n",
    "from sklearn.model_selection import train_test_split\n",
    "from sklearn.linear_model import LinearRegression\n",
    "from sklearn.metrics import mean_squared_error\n",
    "from sklearn.preprocessing import PolynomialFeatures\n",
    "from sklearn.linear_model import Ridge\n",
    "\n",
    "from sklearn.model_selection import cross_val_score\n",
    "from sklearn.metrics import mean_absolute_error, mean_squared_error, r2_score\n"
   ]
  },
  {
   "cell_type": "code",
   "execution_count": 2,
   "id": "80eb6340",
   "metadata": {},
   "outputs": [],
   "source": [
    "# Load the dataset\n",
    "confirm = pd.read_csv('confirmed_rate_us.csv')\n",
    "vaccine_tweet_sent = pd.read_csv('vaccine_tweet_sent_nozero.csv')\n",
    "all_tweet_sent = pd.read_csv('2020_2022_all_sent.csv')\n",
    "death = pd.read_csv('deaths_rate_us.csv')"
   ]
  },
  {
   "cell_type": "code",
   "execution_count": 3,
   "id": "c146eae1",
   "metadata": {},
   "outputs": [],
   "source": [
    "vaccine_tweet_sent = vaccine_tweet_sent.rename(columns={'date': 'Date'})\n",
    "all_tweet_sent = all_tweet_sent.drop('Unnamed: 0', axis=1)\n",
    "negative_sentiment = all_tweet_sent[all_tweet_sent['Sentiment'] == 'negative']\n",
    "neutral_sentiment = all_tweet_sent[all_tweet_sent['Sentiment'] == 'neutral']\n",
    "positive_sentiment = all_tweet_sent[all_tweet_sent['Sentiment'] == 'positive']"
   ]
  },
  {
   "cell_type": "code",
   "execution_count": 4,
   "id": "29c603d8",
   "metadata": {},
   "outputs": [],
   "source": [
    "input_format = \"%m/%d/%Y\"  # The format of date_str_1\n",
    "output_format = \"%Y-%m-%d\"  # The desired format\n",
    "confirm['Date'] = confirm['Date'].apply(lambda x: datetime.strptime(x, input_format).strftime(output_format))"
   ]
  },
  {
   "cell_type": "code",
   "execution_count": 5,
   "id": "d6d33a9d",
   "metadata": {},
   "outputs": [],
   "source": [
    "death['Date'] = death['Date'].apply(lambda x: datetime.strptime(x, input_format).strftime(output_format))"
   ]
  },
  {
   "cell_type": "code",
   "execution_count": 6,
   "id": "e08906fb",
   "metadata": {},
   "outputs": [],
   "source": [
    "confirm = confirm.drop('increased', axis=1)"
   ]
  },
  {
   "cell_type": "code",
   "execution_count": 7,
   "id": "cc43a60d",
   "metadata": {},
   "outputs": [],
   "source": [
    "death = death.drop('fast', axis=1)\n",
    "death = death.rename(columns={'diff': 'death_diff'})"
   ]
  },
  {
   "cell_type": "code",
   "execution_count": 8,
   "id": "3f304dc2",
   "metadata": {},
   "outputs": [],
   "source": [
    "confirm = confirm.drop('Unnamed: 0', axis=1)\n",
    "death = death.drop('Unnamed: 0', axis=1)"
   ]
  },
  {
   "cell_type": "code",
   "execution_count": 9,
   "id": "aadff7e1",
   "metadata": {},
   "outputs": [],
   "source": [
    "df = confirm.merge(negative_sentiment, on='Date', how='inner').merge(\n",
    "    death, on='Date', how='inner').merge(\n",
    "    vaccine_tweet_sent, on='Date', how='inner')"
   ]
  },
  {
   "cell_type": "code",
   "execution_count": 10,
   "id": "eed8d76c",
   "metadata": {},
   "outputs": [],
   "source": [
    "df = df.drop(['Year', 'Month', 'Day', 'Sentiment', 'index'], axis=1)\n",
    "df = df.rename(columns={'Count': 'Count_all_tweets_negative', 'Avg_Per': 'Avg_Per_all_tweets_negative', \n",
    "                        'sum_sentiment_score': 'sum_sent_vaccine_Tweets',\n",
    "                        'avg_sentiment_score': 'avg_sent_vaccine_Tweets',\n",
    "                        'tweet_count': 'tweet_count_vaccine_Tweets',\n",
    "                       })"
   ]
  },
  {
   "cell_type": "code",
   "execution_count": 11,
   "id": "ad4b29d7",
   "metadata": {},
   "outputs": [],
   "source": [
    "df = df.drop_duplicates()"
   ]
  },
  {
   "cell_type": "code",
   "execution_count": 12,
   "id": "79cea4e5",
   "metadata": {},
   "outputs": [],
   "source": [
    "df['confirm_diff'] = df['confirmed_us'] - df['yesterday_confirmed_us']"
   ]
  },
  {
   "cell_type": "code",
   "execution_count": 13,
   "id": "103ea404",
   "metadata": {},
   "outputs": [],
   "source": [
    "df = df.merge(neutral_sentiment, on='Date', how='inner')\n",
    "df = df.drop(['Year', 'Month', 'Day', 'Sentiment'], axis=1)\n",
    "df = df.rename(columns={'Count': 'Count_all_tweets_neutral', \n",
    "                        'Avg_Per': 'Avg_Per_all_tweets_neutral', \n",
    "                       })"
   ]
  },
  {
   "cell_type": "code",
   "execution_count": 14,
   "id": "9bf84360",
   "metadata": {},
   "outputs": [],
   "source": [
    "df = df.merge(positive_sentiment, on='Date', how='inner')\n",
    "df = df.drop(['Year', 'Month', 'Day', 'Sentiment'], axis=1)\n",
    "df = df.rename(columns={'Count': 'Count_all_tweets_positive', \n",
    "                        'Avg_Per': 'Avg_Per_all_tweets_positive', \n",
    "                       })\n"
   ]
  },
  {
   "cell_type": "code",
   "execution_count": 15,
   "id": "3701d8ef",
   "metadata": {},
   "outputs": [],
   "source": [
    "df = df.drop(['Date',], axis=1)"
   ]
  },
  {
   "cell_type": "code",
   "execution_count": 16,
   "id": "0544d1fc",
   "metadata": {},
   "outputs": [
    {
     "data": {
      "text/html": [
       "<div>\n",
       "<style scoped>\n",
       "    .dataframe tbody tr th:only-of-type {\n",
       "        vertical-align: middle;\n",
       "    }\n",
       "\n",
       "    .dataframe tbody tr th {\n",
       "        vertical-align: top;\n",
       "    }\n",
       "\n",
       "    .dataframe thead th {\n",
       "        text-align: right;\n",
       "    }\n",
       "</style>\n",
       "<table border=\"1\" class=\"dataframe\">\n",
       "  <thead>\n",
       "    <tr style=\"text-align: right;\">\n",
       "      <th></th>\n",
       "      <th>confirmed_rate_us</th>\n",
       "      <th>confirmed_us</th>\n",
       "      <th>yesterday_confirmed_us</th>\n",
       "      <th>Count_all_tweets_negative</th>\n",
       "      <th>Avg_Per_all_tweets_negative</th>\n",
       "      <th>deaths_rate_us</th>\n",
       "      <th>deaths_us</th>\n",
       "      <th>yesterday_deaths_us</th>\n",
       "      <th>death_diff</th>\n",
       "      <th>sum_sent_vaccine_Tweets</th>\n",
       "      <th>avg_sent_vaccine_Tweets</th>\n",
       "      <th>tweet_count_vaccine_Tweets</th>\n",
       "      <th>confirm_diff</th>\n",
       "      <th>Count_all_tweets_neutral</th>\n",
       "      <th>Avg_Per_all_tweets_neutral</th>\n",
       "      <th>Count_all_tweets_positive</th>\n",
       "      <th>Avg_Per_all_tweets_positive</th>\n",
       "    </tr>\n",
       "  </thead>\n",
       "  <tbody>\n",
       "    <tr>\n",
       "      <th>0</th>\n",
       "      <td>3.650324e-08</td>\n",
       "      <td>12</td>\n",
       "      <td>12.0</td>\n",
       "      <td>84573</td>\n",
       "      <td>0.784561</td>\n",
       "      <td>3.041937e-09</td>\n",
       "      <td>1</td>\n",
       "      <td>1.0</td>\n",
       "      <td>0.0</td>\n",
       "      <td>-3.423437</td>\n",
       "      <td>-0.085586</td>\n",
       "      <td>40</td>\n",
       "      <td>0.0</td>\n",
       "      <td>14560</td>\n",
       "      <td>0.136399</td>\n",
       "      <td>8533</td>\n",
       "      <td>0.079039</td>\n",
       "    </tr>\n",
       "    <tr>\n",
       "      <th>1</th>\n",
       "      <td>1.916420e-06</td>\n",
       "      <td>630</td>\n",
       "      <td>538.0</td>\n",
       "      <td>115926</td>\n",
       "      <td>0.819362</td>\n",
       "      <td>7.300649e-08</td>\n",
       "      <td>24</td>\n",
       "      <td>22.0</td>\n",
       "      <td>2.0</td>\n",
       "      <td>-9.808869</td>\n",
       "      <td>-0.132552</td>\n",
       "      <td>74</td>\n",
       "      <td>92.0</td>\n",
       "      <td>15473</td>\n",
       "      <td>0.109645</td>\n",
       "      <td>10644</td>\n",
       "      <td>0.070993</td>\n",
       "    </tr>\n",
       "    <tr>\n",
       "      <th>2</th>\n",
       "      <td>1.449419e-03</td>\n",
       "      <td>476479</td>\n",
       "      <td>440933.0</td>\n",
       "      <td>252685</td>\n",
       "      <td>0.845454</td>\n",
       "      <td>6.515829e-05</td>\n",
       "      <td>21420</td>\n",
       "      <td>19215.0</td>\n",
       "      <td>2205.0</td>\n",
       "      <td>-5.198317</td>\n",
       "      <td>-0.148523</td>\n",
       "      <td>35</td>\n",
       "      <td>35546.0</td>\n",
       "      <td>27470</td>\n",
       "      <td>0.097254</td>\n",
       "      <td>16849</td>\n",
       "      <td>0.057292</td>\n",
       "    </tr>\n",
       "    <tr>\n",
       "      <th>3</th>\n",
       "      <td>3.991474e-03</td>\n",
       "      <td>1312149</td>\n",
       "      <td>1287687.0</td>\n",
       "      <td>294714</td>\n",
       "      <td>0.813475</td>\n",
       "      <td>2.492441e-04</td>\n",
       "      <td>81936</td>\n",
       "      <td>80472.0</td>\n",
       "      <td>1464.0</td>\n",
       "      <td>2.607551</td>\n",
       "      <td>0.096576</td>\n",
       "      <td>27</td>\n",
       "      <td>24462.0</td>\n",
       "      <td>44074</td>\n",
       "      <td>0.122688</td>\n",
       "      <td>22807</td>\n",
       "      <td>0.063837</td>\n",
       "    </tr>\n",
       "    <tr>\n",
       "      <th>4</th>\n",
       "      <td>6.002237e-03</td>\n",
       "      <td>1973163</td>\n",
       "      <td>1952876.0</td>\n",
       "      <td>588829</td>\n",
       "      <td>0.838050</td>\n",
       "      <td>3.488554e-04</td>\n",
       "      <td>114682</td>\n",
       "      <td>113768.0</td>\n",
       "      <td>914.0</td>\n",
       "      <td>0.822600</td>\n",
       "      <td>0.091400</td>\n",
       "      <td>9</td>\n",
       "      <td>20287.0</td>\n",
       "      <td>72884</td>\n",
       "      <td>0.102723</td>\n",
       "      <td>40052</td>\n",
       "      <td>0.059227</td>\n",
       "    </tr>\n",
       "  </tbody>\n",
       "</table>\n",
       "</div>"
      ],
      "text/plain": [
       "   confirmed_rate_us  confirmed_us  yesterday_confirmed_us  \\\n",
       "0       3.650324e-08            12                    12.0   \n",
       "1       1.916420e-06           630                   538.0   \n",
       "2       1.449419e-03        476479                440933.0   \n",
       "3       3.991474e-03       1312149               1287687.0   \n",
       "4       6.002237e-03       1973163               1952876.0   \n",
       "\n",
       "   Count_all_tweets_negative  Avg_Per_all_tweets_negative  deaths_rate_us  \\\n",
       "0                      84573                     0.784561    3.041937e-09   \n",
       "1                     115926                     0.819362    7.300649e-08   \n",
       "2                     252685                     0.845454    6.515829e-05   \n",
       "3                     294714                     0.813475    2.492441e-04   \n",
       "4                     588829                     0.838050    3.488554e-04   \n",
       "\n",
       "   deaths_us  yesterday_deaths_us  death_diff  sum_sent_vaccine_Tweets  \\\n",
       "0          1                  1.0         0.0                -3.423437   \n",
       "1         24                 22.0         2.0                -9.808869   \n",
       "2      21420              19215.0      2205.0                -5.198317   \n",
       "3      81936              80472.0      1464.0                 2.607551   \n",
       "4     114682             113768.0       914.0                 0.822600   \n",
       "\n",
       "   avg_sent_vaccine_Tweets  tweet_count_vaccine_Tweets  confirm_diff  \\\n",
       "0                -0.085586                          40           0.0   \n",
       "1                -0.132552                          74          92.0   \n",
       "2                -0.148523                          35       35546.0   \n",
       "3                 0.096576                          27       24462.0   \n",
       "4                 0.091400                           9       20287.0   \n",
       "\n",
       "   Count_all_tweets_neutral  Avg_Per_all_tweets_neutral  \\\n",
       "0                     14560                    0.136399   \n",
       "1                     15473                    0.109645   \n",
       "2                     27470                    0.097254   \n",
       "3                     44074                    0.122688   \n",
       "4                     72884                    0.102723   \n",
       "\n",
       "   Count_all_tweets_positive  Avg_Per_all_tweets_positive  \n",
       "0                       8533                     0.079039  \n",
       "1                      10644                     0.070993  \n",
       "2                      16849                     0.057292  \n",
       "3                      22807                     0.063837  \n",
       "4                      40052                     0.059227  "
      ]
     },
     "execution_count": 16,
     "metadata": {},
     "output_type": "execute_result"
    }
   ],
   "source": [
    "df.head()"
   ]
  },
  {
   "cell_type": "code",
   "execution_count": 17,
   "id": "59c8e5aa",
   "metadata": {},
   "outputs": [
    {
     "data": {
      "image/png": "[encoded data removed]",
      "text/plain": [
       "<Figure size 792x648 with 2 Axes>"
      ]
     },
     "metadata": {
      "needs_background": "light"
     },
     "output_type": "display_data"
    }
   ],
   "source": [
    "# Compute the correlation matrix\n",
    "corr = df.corr()\n",
    "\n",
    "# Generate a mask for the upper triangle\n",
    "mask = np.triu(np.ones_like(corr, dtype=bool))\n",
    "\n",
    "# Set up the matplotlib figure\n",
    "f, ax = plt.subplots(figsize=(11, 9))\n",
    "\n",
    "# Choose a different colormap\n",
    "cmap = sns.diverging_palette(220, 10, as_cmap=True)\n",
    "\n",
    "# Draw the heatmap with the mask and correct aspect ratio\n",
    "sns.heatmap(corr, mask=mask, cmap=cmap, vmax=.7, center=0,\n",
    "            square=True, linewidths=.5, cbar_kws={\"shrink\": .5})\n",
    "\n",
    "plt.title('Correlation Heatmap of the Features', fontsize=15)\n",
    "plt.show()"
   ]
  },
  {
   "cell_type": "markdown",
   "id": "178f4243",
   "metadata": {},
   "source": [
    "'avg_sent_vaccine_Tweets','tweet_count_vaccine_Tweets','Count_all_tweets_neutral',\n",
    "'Count_all_tweets_positive','Avg_Per_all_tweets_negative','Count_all_tweets_negative'"
   ]
  },
  {
   "cell_type": "code",
   "execution_count": 18,
   "id": "641d6e58",
   "metadata": {},
   "outputs": [],
   "source": [
    "#Feature engineering\n",
    "df['tweet_count_vaccine_Tweets_sqrt']=np.sqrt(df['tweet_count_vaccine_Tweets'])\n",
    "df['tweet_count_vaccine_Tweets_sqr']=df['tweet_count_vaccine_Tweets']**2\n",
    "df['tweet_count_vaccine_Tweets_log']=np.log(df['tweet_count_vaccine_Tweets'])\n",
    "\n",
    "df['Count_all_tweets_neu&pos&neg-avg']=(df['Count_all_tweets_neutral']\n",
    "                                        +df['Count_all_tweets_positive']+df['Count_all_tweets_negative'])/3\n",
    "\n",
    "df['interaction_vaccine_tweets_sent'] = df['tweet_count_vaccine_Tweets'] * df['avg_sent_vaccine_Tweets']\n",
    "\n",
    "df['squared_avg_sent_vaccine_Tweets'] = df['avg_sent_vaccine_Tweets'] ** 2\n",
    "df['cubed_tweet_count_vaccine_Tweets'] = df['tweet_count_vaccine_Tweets'] ** 3\n",
    "\n",
    "df['ratio_negative_neutral_tweets'] = df['Count_all_tweets_negative'] / df['Count_all_tweets_neutral']\n",
    "df['ratio_positive_negative_tweets'] = df['Count_all_tweets_positive'] / df['Count_all_tweets_negative']\n"
   ]
  },
  {
   "cell_type": "code",
   "execution_count": 19,
   "id": "e03220d2",
   "metadata": {},
   "outputs": [],
   "source": [
    "Q1 = df.quantile(0.25)\n",
    "Q3 = df.quantile(0.75)\n",
    "IQR = Q3 - Q1\n",
    "\n",
    "# remove any data points that fall outside of the IQR\n",
    "df_clean = df[~((df < (Q1 - 1.5 * IQR)) | (df > (Q3 + 1.5 * IQR))).any(axis=1)]\n",
    "from sklearn.preprocessing import StandardScaler\n",
    "scaler = StandardScaler()\n"
   ]
  },
  {
   "cell_type": "code",
   "execution_count": 20,
   "id": "827901cf",
   "metadata": {},
   "outputs": [],
   "source": [
    "\n",
    "X = df_clean[['avg_sent_vaccine_Tweets',#average of sentiment score of vaccine tweets\n",
    "              'tweet_count_vaccine_Tweets',#count of vaccine tweets\n",
    "                'Count_all_tweets_neutral',#count of All covid neutral tweets\n",
    "                'Count_all_tweets_positive',#count of All covid positive tweets\n",
    "                'Avg_Per_all_tweets_negative',#average percent of All covid negative tweets\n",
    "              'Count_all_tweets_neu&pos&neg-avg',#average count of All covid 3 kind of tweets\n",
    "                'Count_all_tweets_negative',#count of All covid negative tweets\n",
    "                'squared_avg_sent_vaccine_Tweets',#squared average of sentiment score of vaccine tweets\n",
    "              'cubed_tweet_count_vaccine_Tweets',#cubed average of sentiment score of vaccine tweets\n",
    "              'interaction_vaccine_tweets_sent',#interaction between the count of vaccine tweets and the sentiment scores\n",
    "             'ratio_negative_neutral_tweets',\n",
    "              'ratio_positive_negative_tweets',\n",
    "              \n",
    "              \n",
    "             ]]\n",
    "y = df_clean['confirm_diff']"
   ]
  },
  {
   "cell_type": "code",
   "execution_count": 21,
   "id": "7c429c57",
   "metadata": {},
   "outputs": [
    {
     "name": "stdout",
     "output_type": "stream",
     "text": [
      "Root Mean Squared Error: 53906.94569261472\n",
      "R-squared: 0.004575441208670372\n",
      "Cross-validation scores: [-0.05118921 -0.14757396 -0.02680331  0.04845433 -0.07213818]\n",
      "Average cross-validation score: -0.049850064879817066\n"
     ]
    }
   ],
   "source": [
    "# Split the data into training and testing sets\n",
    "X_train, X_test, y_train, y_test = train_test_split(X, y, test_size=0.2, random_state=42)\n",
    "\n",
    "# Create a Ridge regression model with L2 regularization\n",
    "# Here we're setting the regularization strength to 1.0, you can adjust this value\n",
    "model = Ridge(alpha=500)\n",
    "# Train the model\n",
    "model.fit(X_train, y_train)\n",
    "# Use the model to make predictions on the testing data\n",
    "y_pred = model.predict(X_test)\n",
    "# Print the root mean squared error of the model\n",
    "print('Root Mean Squared Error:', np.sqrt(mean_squared_error(y_test, y_pred)))\n",
    "# Calculate the coefficient of determination (R-squared)\n",
    "r2 = r2_score(y_test, y_pred)\n",
    "print(\"R-squared:\", r2)\n",
    "# Perform 5-fold cross-validation\n",
    "scores = cross_val_score(model, X_train, y_train, cv=5)\n",
    "# Print the cross-validation scores\n",
    "print('Cross-validation scores:', scores)\n",
    "# Print the average cross-validation score\n",
    "print('Average cross-validation score:', scores.mean())"
   ]
  },
  {
   "cell_type": "code",
   "execution_count": 22,
   "id": "8d9cdeef",
   "metadata": {},
   "outputs": [
    {
     "data": {
      "image/png": "[encoded data removed]",
      "text/plain": [
       "<Figure size 432x288 with 1 Axes>"
      ]
     },
     "metadata": {
      "needs_background": "light"
     },
     "output_type": "display_data"
    }
   ],
   "source": [
    "residuals = y_test - y_pred\n",
    "\n",
    "# Plot the residual plot\n",
    "plt.scatter(y_pred, residuals)\n",
    "plt.axhline(y=0, color='r', linestyle='--')  # Add a horizontal line at y=0 for reference\n",
    "plt.xlabel('Predicted Values')\n",
    "plt.ylabel('Residuals')\n",
    "plt.title('Residual Plot')\n",
    "plt.show()"
   ]
  },
  {
   "cell_type": "code",
   "execution_count": 23,
   "id": "7615f9c3",
   "metadata": {},
   "outputs": [
    {
     "name": "stdout",
     "output_type": "stream",
     "text": [
      "                                  Coefficient\n",
      "avg_sent_vaccine_Tweets            -23.991740\n",
      "tweet_count_vaccine_Tweets         -16.607996\n",
      "Count_all_tweets_neutral            -1.220135\n",
      "Count_all_tweets_positive            0.346647\n",
      "Avg_Per_all_tweets_negative          3.602565\n",
      "Count_all_tweets_neu&pos&neg-avg    -0.234014\n",
      "Count_all_tweets_negative            0.171447\n",
      "squared_avg_sent_vaccine_Tweets    -13.100239\n",
      "cubed_tweet_count_vaccine_Tweets     0.000228\n",
      "interaction_vaccine_tweets_sent   -109.638476\n",
      "ratio_negative_neutral_tweets      562.287203\n",
      "ratio_positive_negative_tweets       3.801703\n"
     ]
    }
   ],
   "source": [
    "coefficients = model.coef_\n",
    "\n",
    "# If you're working with a DataFrame, you can create a new DataFrame to display the features and their corresponding coefficients\n",
    "coef_df = pd.DataFrame(coefficients, columns=['Coefficient'], index=X.columns)\n",
    "\n",
    "print(coef_df)"
   ]
  },
  {
   "cell_type": "code",
   "execution_count": 24,
   "id": "c86710ff",
   "metadata": {},
   "outputs": [
    {
     "name": "stdout",
     "output_type": "stream",
     "text": [
      "                            Variable        VIF\n",
      "0            avg_sent_vaccine_Tweets   2.906632\n",
      "1         tweet_count_vaccine_Tweets   8.628182\n",
      "2           Count_all_tweets_neutral        inf\n",
      "3          Count_all_tweets_positive        inf\n",
      "4        Avg_Per_all_tweets_negative  30.762072\n",
      "5   Count_all_tweets_neu&pos&neg-avg        inf\n",
      "6          Count_all_tweets_negative        inf\n",
      "7    squared_avg_sent_vaccine_Tweets   1.405806\n",
      "8   cubed_tweet_count_vaccine_Tweets   7.539044\n",
      "9    interaction_vaccine_tweets_sent   3.331701\n",
      "10     ratio_negative_neutral_tweets  17.343623\n",
      "11    ratio_positive_negative_tweets  17.436211\n"
     ]
    },
    {
     "name": "stderr",
     "output_type": "stream",
     "text": [
      "D:\\Anaconda\\lib\\site-packages\\statsmodels\\stats\\outliers_influence.py:195: RuntimeWarning: divide by zero encountered in double_scalars\n",
      "  vif = 1. / (1. - r_squared_i)\n"
     ]
    }
   ],
   "source": [
    "from statsmodels.stats.outliers_influence import variance_inflation_factor\n",
    "import statsmodels.api as sm\n",
    "\n",
    "# add a constant term to your features (required for VIF calculation)\n",
    "X_const = sm.add_constant(X)\n",
    "\n",
    "# calculate VIF for each feature\n",
    "vif = pd.DataFrame()\n",
    "vif[\"Variable\"] = X.columns\n",
    "vif[\"VIF\"] = [variance_inflation_factor(X_const.values, i+1) for i in range(X.shape[1])]\n",
    "\n",
    "print(vif)\n"
   ]
  },
  {
   "cell_type": "code",
   "execution_count": null,
   "id": "fa6866d5",
   "metadata": {},
   "outputs": [],
   "source": []
  },
  {
   "cell_type": "code",
   "execution_count": null,
   "id": "69c1ebaa",
   "metadata": {},
   "outputs": [],
   "source": []
  }
 ],
 "metadata": {
  "kernelspec": {
   "display_name": "Python 3 (ipykernel)",
   "language": "python",
   "name": "python3"
  },
  "language_info": {
   "codemirror_mode": {
    "name": "ipython",
    "version": 3
   },
   "file_extension": ".py",
   "mimetype": "text/x-python",
   "name": "python",
   "nbconvert_exporter": "python",
   "pygments_lexer": "ipython3",
   "version": "3.9.12"
  }
 },
 "nbformat": 4,
 "nbformat_minor": 5
}
